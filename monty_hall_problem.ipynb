{
  "nbformat": 4,
  "nbformat_minor": 0,
  "metadata": {
    "colab": {
      "name": "monty_hall_problem.ipynb",
      "provenance": [],
      "authorship_tag": "ABX9TyOEo+AXgItxoi93chs+03mC",
      "include_colab_link": true
    },
    "kernelspec": {
      "name": "python3",
      "display_name": "Python 3"
    },
    "language_info": {
      "name": "python"
    }
  },
  "cells": [
    {
      "cell_type": "markdown",
      "metadata": {
        "id": "view-in-github",
        "colab_type": "text"
      },
      "source": [
        "<a href=\"https://colab.research.google.com/github/lucascavalcante87/Probability-Problems/blob/main/monty_hall_problem.ipynb\" target=\"_parent\"><img src=\"https://colab.research.google.com/assets/colab-badge.svg\" alt=\"Open In Colab\"/></a>"
      ]
    },
    {
      "cell_type": "markdown",
      "source": [
        "# Monty Hall Problem"
      ],
      "metadata": {
        "id": "AspzmoyLh17d"
      }
    },
    {
      "cell_type": "markdown",
      "source": [
        "## Library"
      ],
      "metadata": {
        "id": "GiPOsb0Ph4Ii"
      }
    },
    {
      "cell_type": "code",
      "source": [
        "import random"
      ],
      "metadata": {
        "id": "vPNC62eKh5Wh"
      },
      "execution_count": 2,
      "outputs": []
    },
    {
      "cell_type": "code",
      "source": [
        "def monty_hall_problem(sample=100):\n",
        "    user_list = []\n",
        "    car_list = []\n",
        "    for idx in range(1,sample+1):\n",
        "        user_choice = random.randint(1,3)\n",
        "        car_door = random.randint(1,3)\n",
        "\n",
        "        user_list.append(user_choice)\n",
        "        car_list.append(car_door)\n",
        "\n",
        "    hits_list = []\n",
        "    mistakes_list = []\n",
        "    for idx in range(0,sample):\n",
        "        if user_list[idx] == car_list[idx]:\n",
        "            hits_list.append(1)\n",
        "        else:\n",
        "            mistakes_list.append(1)\n",
        "    \n",
        "    new_user_list = []\n",
        "    for idx in range(0,sample):\n",
        "        temp_list = [1, 2, 3]\n",
        "\n",
        "        temp_list.remove(user_list[idx])\n",
        "        new_choice = random.choice(temp_list)\n",
        "        new_user_list.append(new_choice)\n",
        "\n",
        "    new_hits_list = []\n",
        "    new_mistakes_list = []\n",
        "    for idx in range(0,sample):\n",
        "        if new_user_list[idx] != car_list[idx]:\n",
        "            new_hits_list.append(1)\n",
        "        else:\n",
        "            new_mistakes_list.append(1)\n",
        "\n",
        "    print(\"Without Changing The Door\")\n",
        "    print(\"{}/ {} = {}%\".format(len(hits_list),\n",
        "                                len(user_list),\n",
        "                                100*len(hits_list)/sample\n",
        "                                )\n",
        "         )\n",
        "    print(\"{}/ {} = {}%\".format(len(mistakes_list),\n",
        "                                len(user_list),\n",
        "                                100*len(mistakes_list)/sample\n",
        "                                )\n",
        "         )\n",
        "    \n",
        "    print(\"\")\n",
        "    print(\"Changing The Door\")\n",
        "    print(\"{}/ {} = {}%\".format(len(new_hits_list),\n",
        "                                len(user_list),\n",
        "                                100*len(new_hits_list)/sample\n",
        "                                )\n",
        "         )\n",
        "    print(\"{}/ {} = {}%\".format(len(new_mistakes_list),\n",
        "                                len(user_list),\n",
        "                                100*len(new_mistakes_list)/sample\n",
        "                                )\n",
        "         )"
      ],
      "metadata": {
        "id": "qugLZwhPh7sU"
      },
      "execution_count": 16,
      "outputs": []
    },
    {
      "cell_type": "code",
      "source": [
        "monty_hall_problem(10000)"
      ],
      "metadata": {
        "colab": {
          "base_uri": "https://localhost:8080/"
        },
        "id": "tW0OTh0jmFCn",
        "outputId": "3b5ee3dc-ad8e-4586-9ab4-bea4fa79a1d4"
      },
      "execution_count": 22,
      "outputs": [
        {
          "output_type": "stream",
          "name": "stdout",
          "text": [
            "Without Changing The Door\n",
            "3240/ 10000 = 32.4%\n",
            "6760/ 10000 = 67.6%\n",
            "\n",
            "Changing The Door\n",
            "6676/ 10000 = 66.76%\n",
            "3324/ 10000 = 33.24%\n"
          ]
        }
      ]
    },
    {
      "cell_type": "code",
      "source": [
        ""
      ],
      "metadata": {
        "id": "msgULdcZmXkZ"
      },
      "execution_count": null,
      "outputs": []
    }
  ]
}